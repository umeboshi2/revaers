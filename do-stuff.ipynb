{
 "cells": [
  {
   "cell_type": "markdown",
   "id": "4fedbb5d",
   "metadata": {},
   "source": [
    "# Introduction\n",
    "\n",
    "You should have a database created from pasing one of the zip files hosted by HHS.\n",
    "\n"
   ]
  },
  {
   "cell_type": "code",
   "execution_count": 1,
   "id": "d68cb6d1",
   "metadata": {},
   "outputs": [],
   "source": [
    "from sqlalchemy import engine_from_config, func\n",
    "from sqlalchemy.orm import sessionmaker\n",
    "from hornstone.alchemy import Base\n",
    "import us\n",
    "from revaers.models import Data, VaxData\n",
    "from revaers.parser import parse_csv\n",
    "from revaers.parser import parse_csvfile\n",
    "from revaers.parser import parse_vaxfile\n",
    "\n",
    "import numpy as np\n",
    "import plotly.io as pio\n",
    "import plotly.express as px\n",
    "import pandas as pd\n",
    "import matplotlib.pyplot as plt\n",
    "import cufflinks as cf\n",
    "\n",
    "plt.style.use('dark_background')\n",
    "\n"
   ]
  },
  {
   "cell_type": "code",
   "execution_count": 2,
   "id": "5336e5bb",
   "metadata": {},
   "outputs": [],
   "source": [
    "\n",
    "dburl = 'postgresql+psycopg2://dbadmin@localhost/revaers'\n",
    "settings = {'sqlalchemy.url': dburl}\n",
    "engine = engine_from_config(settings)\n",
    "Base.metadata.create_all(engine)\n",
    "Session = sessionmaker()\n",
    "Session.configure(bind=engine)\n"
   ]
  },
  {
   "cell_type": "code",
   "execution_count": 3,
   "id": "2cdf9fe5",
   "metadata": {},
   "outputs": [],
   "source": [
    "s = Session()\n"
   ]
  },
  {
   "cell_type": "code",
   "execution_count": 4,
   "id": "28c69a93",
   "metadata": {},
   "outputs": [
    {
     "data": {
      "text/plain": [
       "108361"
      ]
     },
     "execution_count": 4,
     "metadata": {},
     "output_type": "execute_result"
    }
   ],
   "source": [
    "s.query(Data).count()\n"
   ]
  },
  {
   "cell_type": "code",
   "execution_count": 5,
   "id": "4f7429c0",
   "metadata": {},
   "outputs": [],
   "source": [
    "\n",
    "def make_data_frame(query):\n",
    "    return pd.read_sql(query.statement, query.session.bind)\n"
   ]
  },
  {
   "cell_type": "code",
   "execution_count": 6,
   "id": "69b997d1",
   "metadata": {},
   "outputs": [
    {
     "data": {
      "text/plain": [
       "<pandas.core.groupby.generic.SeriesGroupBy object at 0x7f25461dbe10>"
      ]
     },
     "execution_count": 6,
     "metadata": {},
     "output_type": "execute_result"
    }
   ],
   "source": [
    "\n",
    "query = s.query(Data, VaxData).join(VaxData)\n",
    "cvquery = query.filter(VaxData.vax_type == 'COVID19')\n",
    "# .filter(Data.died == True)\n",
    "msquery = cvquery.filter(Data.state == 'MS')\n",
    "dtquery = s.query(Data.recvdate, func.count(Data.vaers_id)).group_by(Data.recvdate).order_by(Data.recvdate)\n",
    "\n",
    "df = make_data_frame(cvquery)\n",
    "df[['vax_manu', 'recvdate']].groupby('recvdate')['vax_manu']"
   ]
  },
  {
   "cell_type": "code",
   "execution_count": 7,
   "id": "a35880ae",
   "metadata": {
    "scrolled": true
   },
   "outputs": [
    {
     "data": {
      "text/html": [
       "<div>\n",
       "<style scoped>\n",
       "    .dataframe tbody tr th:only-of-type {\n",
       "        vertical-align: middle;\n",
       "    }\n",
       "\n",
       "    .dataframe tbody tr th {\n",
       "        vertical-align: top;\n",
       "    }\n",
       "\n",
       "    .dataframe thead th {\n",
       "        text-align: right;\n",
       "    }\n",
       "</style>\n",
       "<table border=\"1\" class=\"dataframe\">\n",
       "  <thead>\n",
       "    <tr style=\"text-align: right;\">\n",
       "      <th></th>\n",
       "      <th>vaers_id</th>\n",
       "      <th>recvdate</th>\n",
       "      <th>state</th>\n",
       "      <th>age_yrs</th>\n",
       "      <th>cage_yr</th>\n",
       "      <th>cage_mo</th>\n",
       "      <th>sex</th>\n",
       "      <th>rpt_date</th>\n",
       "      <th>symptom_text</th>\n",
       "      <th>died</th>\n",
       "      <th>...</th>\n",
       "      <th>bad_dates</th>\n",
       "      <th>questionable</th>\n",
       "      <th>vaers_id</th>\n",
       "      <th>vax_type</th>\n",
       "      <th>vax_manu</th>\n",
       "      <th>vax_lot</th>\n",
       "      <th>vax_dose_series</th>\n",
       "      <th>vax_route</th>\n",
       "      <th>vax_site</th>\n",
       "      <th>vax_name</th>\n",
       "    </tr>\n",
       "  </thead>\n",
       "  <tbody>\n",
       "    <tr>\n",
       "      <th>0</th>\n",
       "      <td>916600</td>\n",
       "      <td>2021-01-01</td>\n",
       "      <td>TX</td>\n",
       "      <td>33.0</td>\n",
       "      <td>33.0</td>\n",
       "      <td></td>\n",
       "      <td>F</td>\n",
       "      <td>None</td>\n",
       "      <td>Right side of epiglottis swelled up and hinder...</td>\n",
       "      <td>False</td>\n",
       "      <td>...</td>\n",
       "      <td>False</td>\n",
       "      <td>False</td>\n",
       "      <td>916600</td>\n",
       "      <td>COVID19</td>\n",
       "      <td>MODERNA</td>\n",
       "      <td>037K20A</td>\n",
       "      <td>1</td>\n",
       "      <td>IM</td>\n",
       "      <td>LA</td>\n",
       "      <td>COVID19 (COVID19 (MODERNA))</td>\n",
       "    </tr>\n",
       "    <tr>\n",
       "      <th>1</th>\n",
       "      <td>916601</td>\n",
       "      <td>2021-01-01</td>\n",
       "      <td>CA</td>\n",
       "      <td>73.0</td>\n",
       "      <td>73.0</td>\n",
       "      <td></td>\n",
       "      <td>F</td>\n",
       "      <td>None</td>\n",
       "      <td>Approximately 30 min post vaccination administ...</td>\n",
       "      <td>False</td>\n",
       "      <td>...</td>\n",
       "      <td>False</td>\n",
       "      <td>False</td>\n",
       "      <td>916601</td>\n",
       "      <td>COVID19</td>\n",
       "      <td>MODERNA</td>\n",
       "      <td>025L20A</td>\n",
       "      <td>1</td>\n",
       "      <td>IM</td>\n",
       "      <td>RA</td>\n",
       "      <td>COVID19 (COVID19 (MODERNA))</td>\n",
       "    </tr>\n",
       "    <tr>\n",
       "      <th>2</th>\n",
       "      <td>916602</td>\n",
       "      <td>2021-01-01</td>\n",
       "      <td>WA</td>\n",
       "      <td>23.0</td>\n",
       "      <td>23.0</td>\n",
       "      <td></td>\n",
       "      <td>F</td>\n",
       "      <td>None</td>\n",
       "      <td>About 15 minutes after receiving the vaccine, ...</td>\n",
       "      <td>False</td>\n",
       "      <td>...</td>\n",
       "      <td>False</td>\n",
       "      <td>False</td>\n",
       "      <td>916602</td>\n",
       "      <td>COVID19</td>\n",
       "      <td>PFIZER\\BIONTECH</td>\n",
       "      <td>EL1284</td>\n",
       "      <td>1</td>\n",
       "      <td>IM</td>\n",
       "      <td>LA</td>\n",
       "      <td>COVID19 (COVID19 (PFIZER-BIONTECH))</td>\n",
       "    </tr>\n",
       "    <tr>\n",
       "      <th>3</th>\n",
       "      <td>916603</td>\n",
       "      <td>2021-01-01</td>\n",
       "      <td>WA</td>\n",
       "      <td>58.0</td>\n",
       "      <td>58.0</td>\n",
       "      <td></td>\n",
       "      <td>F</td>\n",
       "      <td>None</td>\n",
       "      <td>extreme fatigue, dizziness,. could not lift my...</td>\n",
       "      <td>False</td>\n",
       "      <td>...</td>\n",
       "      <td>False</td>\n",
       "      <td>False</td>\n",
       "      <td>916603</td>\n",
       "      <td>COVID19</td>\n",
       "      <td>MODERNA</td>\n",
       "      <td>unknown</td>\n",
       "      <td>UNK</td>\n",
       "      <td></td>\n",
       "      <td></td>\n",
       "      <td>COVID19 (COVID19 (MODERNA))</td>\n",
       "    </tr>\n",
       "    <tr>\n",
       "      <th>4</th>\n",
       "      <td>916604</td>\n",
       "      <td>2021-01-01</td>\n",
       "      <td>TX</td>\n",
       "      <td>47.0</td>\n",
       "      <td>47.0</td>\n",
       "      <td></td>\n",
       "      <td>F</td>\n",
       "      <td>None</td>\n",
       "      <td>Injection site swelling, redness, warm to the ...</td>\n",
       "      <td>False</td>\n",
       "      <td>...</td>\n",
       "      <td>False</td>\n",
       "      <td>False</td>\n",
       "      <td>916604</td>\n",
       "      <td>COVID19</td>\n",
       "      <td>MODERNA</td>\n",
       "      <td></td>\n",
       "      <td>1</td>\n",
       "      <td>IM</td>\n",
       "      <td>LA</td>\n",
       "      <td>COVID19 (COVID19 (MODERNA))</td>\n",
       "    </tr>\n",
       "  </tbody>\n",
       "</table>\n",
       "<p>5 rows × 30 columns</p>\n",
       "</div>"
      ],
      "text/plain": [
       "  vaers_id    recvdate state  age_yrs  cage_yr cage_mo sex rpt_date  \\\n",
       "0   916600  2021-01-01    TX     33.0     33.0           F     None   \n",
       "1   916601  2021-01-01    CA     73.0     73.0           F     None   \n",
       "2   916602  2021-01-01    WA     23.0     23.0           F     None   \n",
       "3   916603  2021-01-01    WA     58.0     58.0           F     None   \n",
       "4   916604  2021-01-01    TX     47.0     47.0           F     None   \n",
       "\n",
       "                                        symptom_text   died  ... bad_dates  \\\n",
       "0  Right side of epiglottis swelled up and hinder...  False  ...     False   \n",
       "1  Approximately 30 min post vaccination administ...  False  ...     False   \n",
       "2  About 15 minutes after receiving the vaccine, ...  False  ...     False   \n",
       "3  extreme fatigue, dizziness,. could not lift my...  False  ...     False   \n",
       "4  Injection site swelling, redness, warm to the ...  False  ...     False   \n",
       "\n",
       "  questionable vaers_id vax_type         vax_manu  vax_lot vax_dose_series  \\\n",
       "0        False   916600  COVID19          MODERNA  037K20A               1   \n",
       "1        False   916601  COVID19          MODERNA  025L20A               1   \n",
       "2        False   916602  COVID19  PFIZER\\BIONTECH   EL1284               1   \n",
       "3        False   916603  COVID19          MODERNA  unknown             UNK   \n",
       "4        False   916604  COVID19          MODERNA                        1   \n",
       "\n",
       "  vax_route vax_site                             vax_name  \n",
       "0        IM       LA          COVID19 (COVID19 (MODERNA))  \n",
       "1        IM       RA          COVID19 (COVID19 (MODERNA))  \n",
       "2        IM       LA  COVID19 (COVID19 (PFIZER-BIONTECH))  \n",
       "3                             COVID19 (COVID19 (MODERNA))  \n",
       "4        IM       LA          COVID19 (COVID19 (MODERNA))  \n",
       "\n",
       "[5 rows x 30 columns]"
      ]
     },
     "execution_count": 7,
     "metadata": {},
     "output_type": "execute_result"
    }
   ],
   "source": [
    "df.head()"
   ]
  },
  {
   "cell_type": "code",
   "execution_count": 8,
   "id": "b4747648",
   "metadata": {},
   "outputs": [
    {
     "data": {
      "text/plain": [
       "<matplotlib.axes._subplots.AxesSubplot at 0x7f2546145a58>"
      ]
     },
     "execution_count": 8,
     "metadata": {},
     "output_type": "execute_result"
    },
    {
     "data": {
      "image/png": "[encoded data removed]",
      "text/plain": [
       "<Figure size 432x288 with 1 Axes>"
      ]
     },
     "metadata": {},
     "output_type": "display_data"
    }
   ],
   "source": [
    "df.head().age_yrs.plot.bar()"
   ]
  },
  {
   "cell_type": "code",
   "execution_count": 48,
   "id": "8f30fb32",
   "metadata": {},
   "outputs": [
    {
     "data": {
      "text/plain": [
       "<matplotlib.axes._subplots.AxesSubplot at 0x7f2544168c18>"
      ]
     },
     "execution_count": 48,
     "metadata": {},
     "output_type": "execute_result"
    },
    {
     "data": {
      "image/png": "[encoded data removed]",
      "text/plain": [
       "<Figure size 432x288 with 1 Axes>"
      ]
     },
     "metadata": {},
     "output_type": "display_data"
    }
   ],
   "source": [
    "q = s.query(Data, VaxData).join(VaxData)\n",
    "q = q.filter(VaxData.vax_type == 'COVID19')\n",
    "#.filter(Data.died == True)\n",
    "#query = query.filter(Data.state == 'MS')\n",
    "# q = q.filter(Data.age_yrs < 64).filter(Data.age_yrs > 0)\n",
    "dq = q.filter(Data.died == True)\n",
    "df = make_data_frame(q)\n",
    "df\n",
    "df.age_yrs.plot.kde()\n"
   ]
  },
  {
   "cell_type": "code",
   "execution_count": 49,
   "id": "5760e6c0",
   "metadata": {},
   "outputs": [
    {
     "data": {
      "text/plain": [
       "vaers_id    3606\n",
       "vaers_id    3606\n",
       "dtype: int64"
      ]
     },
     "execution_count": 49,
     "metadata": {},
     "output_type": "execute_result"
    }
   ],
   "source": [
    "ev = df[['vaers_id', 'recvdate']].groupby('recvdate').count()\n",
    "ev.vaers_id.max()"
   ]
  },
  {
   "cell_type": "code",
   "execution_count": 50,
   "id": "80ece201",
   "metadata": {},
   "outputs": [
    {
     "ename": "AttributeError",
     "evalue": "Can only use .dt accessor with datetimelike values",
     "output_type": "error",
     "traceback": [
      "\u001b[0;31m---------------------------------------------------------------------------\u001b[0m",
      "\u001b[0;31mAttributeError\u001b[0m                            Traceback (most recent call last)",
      "\u001b[0;32m<ipython-input-50-4ba51c73b447>\u001b[0m in \u001b[0;36m<module>\u001b[0;34m\u001b[0m\n\u001b[0;32m----> 1\u001b[0;31m \u001b[0mdf\u001b[0m\u001b[0;34m.\u001b[0m\u001b[0mgroupby\u001b[0m\u001b[0;34m(\u001b[0m\u001b[0mdf\u001b[0m\u001b[0;34m.\u001b[0m\u001b[0mrecvdate\u001b[0m\u001b[0;34m.\u001b[0m\u001b[0mdt\u001b[0m\u001b[0;34m.\u001b[0m\u001b[0misocalendar\u001b[0m\u001b[0;34m(\u001b[0m\u001b[0;34m)\u001b[0m\u001b[0;34m.\u001b[0m\u001b[0mweek\u001b[0m\u001b[0;34m)\u001b[0m\u001b[0;34m[\u001b[0m\u001b[0;34m'vaers_id'\u001b[0m\u001b[0;34m]\u001b[0m\u001b[0;34m.\u001b[0m\u001b[0mcount\u001b[0m\u001b[0;34m(\u001b[0m\u001b[0;34m)\u001b[0m\u001b[0;34m\u001b[0m\u001b[0;34m\u001b[0m\u001b[0m\n\u001b[0m",
      "\u001b[0;32m~/.virtualenvs/revaers/lib/python3.7/site-packages/pandas/core/generic.py\u001b[0m in \u001b[0;36m__getattr__\u001b[0;34m(self, name)\u001b[0m\n\u001b[1;32m   5459\u001b[0m             \u001b[0;32mor\u001b[0m \u001b[0mname\u001b[0m \u001b[0;32min\u001b[0m \u001b[0mself\u001b[0m\u001b[0;34m.\u001b[0m\u001b[0m_accessors\u001b[0m\u001b[0;34m\u001b[0m\u001b[0;34m\u001b[0m\u001b[0m\n\u001b[1;32m   5460\u001b[0m         ):\n\u001b[0;32m-> 5461\u001b[0;31m             \u001b[0;32mreturn\u001b[0m \u001b[0mobject\u001b[0m\u001b[0;34m.\u001b[0m\u001b[0m__getattribute__\u001b[0m\u001b[0;34m(\u001b[0m\u001b[0mself\u001b[0m\u001b[0;34m,\u001b[0m \u001b[0mname\u001b[0m\u001b[0;34m)\u001b[0m\u001b[0;34m\u001b[0m\u001b[0;34m\u001b[0m\u001b[0m\n\u001b[0m\u001b[1;32m   5462\u001b[0m         \u001b[0;32melse\u001b[0m\u001b[0;34m:\u001b[0m\u001b[0;34m\u001b[0m\u001b[0;34m\u001b[0m\u001b[0m\n\u001b[1;32m   5463\u001b[0m             \u001b[0;32mif\u001b[0m \u001b[0mself\u001b[0m\u001b[0;34m.\u001b[0m\u001b[0m_info_axis\u001b[0m\u001b[0;34m.\u001b[0m\u001b[0m_can_hold_identifiers_and_holds_name\u001b[0m\u001b[0;34m(\u001b[0m\u001b[0mname\u001b[0m\u001b[0;34m)\u001b[0m\u001b[0;34m:\u001b[0m\u001b[0;34m\u001b[0m\u001b[0;34m\u001b[0m\u001b[0m\n",
      "\u001b[0;32m~/.virtualenvs/revaers/lib/python3.7/site-packages/pandas/core/accessor.py\u001b[0m in \u001b[0;36m__get__\u001b[0;34m(self, obj, cls)\u001b[0m\n\u001b[1;32m    178\u001b[0m             \u001b[0;31m# we're accessing the attribute of the class, i.e., Dataset.geo\u001b[0m\u001b[0;34m\u001b[0m\u001b[0;34m\u001b[0m\u001b[0;34m\u001b[0m\u001b[0m\n\u001b[1;32m    179\u001b[0m             \u001b[0;32mreturn\u001b[0m \u001b[0mself\u001b[0m\u001b[0;34m.\u001b[0m\u001b[0m_accessor\u001b[0m\u001b[0;34m\u001b[0m\u001b[0;34m\u001b[0m\u001b[0m\n\u001b[0;32m--> 180\u001b[0;31m         \u001b[0maccessor_obj\u001b[0m \u001b[0;34m=\u001b[0m \u001b[0mself\u001b[0m\u001b[0;34m.\u001b[0m\u001b[0m_accessor\u001b[0m\u001b[0;34m(\u001b[0m\u001b[0mobj\u001b[0m\u001b[0;34m)\u001b[0m\u001b[0;34m\u001b[0m\u001b[0;34m\u001b[0m\u001b[0m\n\u001b[0m\u001b[1;32m    181\u001b[0m         \u001b[0;31m# Replace the property with the accessor object. Inspired by:\u001b[0m\u001b[0;34m\u001b[0m\u001b[0;34m\u001b[0m\u001b[0;34m\u001b[0m\u001b[0m\n\u001b[1;32m    182\u001b[0m         \u001b[0;31m# https://www.pydanny.com/cached-property.html\u001b[0m\u001b[0;34m\u001b[0m\u001b[0;34m\u001b[0m\u001b[0;34m\u001b[0m\u001b[0m\n",
      "\u001b[0;32m~/.virtualenvs/revaers/lib/python3.7/site-packages/pandas/core/indexes/accessors.py\u001b[0m in \u001b[0;36m__new__\u001b[0;34m(cls, data)\u001b[0m\n\u001b[1;32m    492\u001b[0m             \u001b[0;32mreturn\u001b[0m \u001b[0mPeriodProperties\u001b[0m\u001b[0;34m(\u001b[0m\u001b[0mdata\u001b[0m\u001b[0;34m,\u001b[0m \u001b[0morig\u001b[0m\u001b[0;34m)\u001b[0m\u001b[0;34m\u001b[0m\u001b[0;34m\u001b[0m\u001b[0m\n\u001b[1;32m    493\u001b[0m \u001b[0;34m\u001b[0m\u001b[0m\n\u001b[0;32m--> 494\u001b[0;31m         \u001b[0;32mraise\u001b[0m \u001b[0mAttributeError\u001b[0m\u001b[0;34m(\u001b[0m\u001b[0;34m\"Can only use .dt accessor with datetimelike values\"\u001b[0m\u001b[0;34m)\u001b[0m\u001b[0;34m\u001b[0m\u001b[0;34m\u001b[0m\u001b[0m\n\u001b[0m",
      "\u001b[0;31mAttributeError\u001b[0m: Can only use .dt accessor with datetimelike values"
     ]
    }
   ],
   "source": [
    "df.groupby(df.recvdate.dt.isocalendar().week)['vaers_id'].count()"
   ]
  },
  {
   "cell_type": "code",
   "execution_count": 51,
   "id": "ee3be597",
   "metadata": {},
   "outputs": [
    {
     "data": {
      "text/html": [
       "<div>\n",
       "<style scoped>\n",
       "    .dataframe tbody tr th:only-of-type {\n",
       "        vertical-align: middle;\n",
       "    }\n",
       "\n",
       "    .dataframe tbody tr th {\n",
       "        vertical-align: top;\n",
       "    }\n",
       "\n",
       "    .dataframe thead th {\n",
       "        text-align: right;\n",
       "    }\n",
       "</style>\n",
       "<table border=\"1\" class=\"dataframe\">\n",
       "  <thead>\n",
       "    <tr style=\"text-align: right;\">\n",
       "      <th></th>\n",
       "      <th>vaers_id</th>\n",
       "      <th>recvdate</th>\n",
       "      <th>state</th>\n",
       "      <th>age_yrs</th>\n",
       "      <th>cage_yr</th>\n",
       "      <th>cage_mo</th>\n",
       "      <th>sex</th>\n",
       "      <th>rpt_date</th>\n",
       "      <th>symptom_text</th>\n",
       "      <th>died</th>\n",
       "      <th>...</th>\n",
       "      <th>timespan</th>\n",
       "      <th>bad_dates</th>\n",
       "      <th>questionable</th>\n",
       "      <th>vaers_id</th>\n",
       "      <th>vax_type</th>\n",
       "      <th>vax_lot</th>\n",
       "      <th>vax_dose_series</th>\n",
       "      <th>vax_route</th>\n",
       "      <th>vax_site</th>\n",
       "      <th>vax_name</th>\n",
       "    </tr>\n",
       "    <tr>\n",
       "      <th>vax_manu</th>\n",
       "      <th></th>\n",
       "      <th></th>\n",
       "      <th></th>\n",
       "      <th></th>\n",
       "      <th></th>\n",
       "      <th></th>\n",
       "      <th></th>\n",
       "      <th></th>\n",
       "      <th></th>\n",
       "      <th></th>\n",
       "      <th></th>\n",
       "      <th></th>\n",
       "      <th></th>\n",
       "      <th></th>\n",
       "      <th></th>\n",
       "      <th></th>\n",
       "      <th></th>\n",
       "      <th></th>\n",
       "      <th></th>\n",
       "      <th></th>\n",
       "      <th></th>\n",
       "    </tr>\n",
       "  </thead>\n",
       "  <tbody>\n",
       "    <tr>\n",
       "      <th>JANSSEN</th>\n",
       "      <td>25098</td>\n",
       "      <td>25098</td>\n",
       "      <td>25098</td>\n",
       "      <td>22135</td>\n",
       "      <td>20482</td>\n",
       "      <td>25098</td>\n",
       "      <td>25098</td>\n",
       "      <td>0</td>\n",
       "      <td>25098</td>\n",
       "      <td>25098</td>\n",
       "      <td>...</td>\n",
       "      <td>176</td>\n",
       "      <td>25098</td>\n",
       "      <td>25098</td>\n",
       "      <td>25098</td>\n",
       "      <td>25098</td>\n",
       "      <td>25098</td>\n",
       "      <td>25098</td>\n",
       "      <td>25098</td>\n",
       "      <td>25098</td>\n",
       "      <td>25098</td>\n",
       "    </tr>\n",
       "    <tr>\n",
       "      <th>MODERNA</th>\n",
       "      <td>45075</td>\n",
       "      <td>45075</td>\n",
       "      <td>45075</td>\n",
       "      <td>41707</td>\n",
       "      <td>41721</td>\n",
       "      <td>45075</td>\n",
       "      <td>45075</td>\n",
       "      <td>60</td>\n",
       "      <td>45075</td>\n",
       "      <td>45075</td>\n",
       "      <td>...</td>\n",
       "      <td>1580</td>\n",
       "      <td>45075</td>\n",
       "      <td>45075</td>\n",
       "      <td>45075</td>\n",
       "      <td>45075</td>\n",
       "      <td>45075</td>\n",
       "      <td>45075</td>\n",
       "      <td>45075</td>\n",
       "      <td>45075</td>\n",
       "      <td>45075</td>\n",
       "    </tr>\n",
       "    <tr>\n",
       "      <th>PFIZER\\BIONTECH</th>\n",
       "      <td>37714</td>\n",
       "      <td>37714</td>\n",
       "      <td>37714</td>\n",
       "      <td>33628</td>\n",
       "      <td>25554</td>\n",
       "      <td>37714</td>\n",
       "      <td>37714</td>\n",
       "      <td>25</td>\n",
       "      <td>37714</td>\n",
       "      <td>37714</td>\n",
       "      <td>...</td>\n",
       "      <td>1334</td>\n",
       "      <td>37714</td>\n",
       "      <td>37714</td>\n",
       "      <td>37714</td>\n",
       "      <td>37714</td>\n",
       "      <td>37714</td>\n",
       "      <td>37714</td>\n",
       "      <td>37714</td>\n",
       "      <td>37714</td>\n",
       "      <td>37714</td>\n",
       "    </tr>\n",
       "    <tr>\n",
       "      <th>UNKNOWN MANUFACTURER</th>\n",
       "      <td>142</td>\n",
       "      <td>142</td>\n",
       "      <td>142</td>\n",
       "      <td>132</td>\n",
       "      <td>127</td>\n",
       "      <td>142</td>\n",
       "      <td>142</td>\n",
       "      <td>1</td>\n",
       "      <td>142</td>\n",
       "      <td>142</td>\n",
       "      <td>...</td>\n",
       "      <td>15</td>\n",
       "      <td>142</td>\n",
       "      <td>142</td>\n",
       "      <td>142</td>\n",
       "      <td>142</td>\n",
       "      <td>142</td>\n",
       "      <td>142</td>\n",
       "      <td>142</td>\n",
       "      <td>142</td>\n",
       "      <td>142</td>\n",
       "    </tr>\n",
       "  </tbody>\n",
       "</table>\n",
       "<p>4 rows × 29 columns</p>\n",
       "</div>"
      ],
      "text/plain": [
       "                      vaers_id  recvdate  state  age_yrs  cage_yr  cage_mo  \\\n",
       "vax_manu                                                                     \n",
       "JANSSEN                  25098     25098  25098    22135    20482    25098   \n",
       "MODERNA                  45075     45075  45075    41707    41721    45075   \n",
       "PFIZER\\BIONTECH          37714     37714  37714    33628    25554    37714   \n",
       "UNKNOWN MANUFACTURER       142       142    142      132      127      142   \n",
       "\n",
       "                        sex  rpt_date  symptom_text   died  ...  timespan  \\\n",
       "vax_manu                                                    ...             \n",
       "JANSSEN               25098         0         25098  25098  ...       176   \n",
       "MODERNA               45075        60         45075  45075  ...      1580   \n",
       "PFIZER\\BIONTECH       37714        25         37714  37714  ...      1334   \n",
       "UNKNOWN MANUFACTURER    142         1           142    142  ...        15   \n",
       "\n",
       "                      bad_dates  questionable  vaers_id  vax_type  vax_lot  \\\n",
       "vax_manu                                                                     \n",
       "JANSSEN                   25098         25098     25098     25098    25098   \n",
       "MODERNA                   45075         45075     45075     45075    45075   \n",
       "PFIZER\\BIONTECH           37714         37714     37714     37714    37714   \n",
       "UNKNOWN MANUFACTURER        142           142       142       142      142   \n",
       "\n",
       "                      vax_dose_series  vax_route  vax_site  vax_name  \n",
       "vax_manu                                                              \n",
       "JANSSEN                         25098      25098     25098     25098  \n",
       "MODERNA                         45075      45075     45075     45075  \n",
       "PFIZER\\BIONTECH                 37714      37714     37714     37714  \n",
       "UNKNOWN MANUFACTURER              142        142       142       142  \n",
       "\n",
       "[4 rows x 29 columns]"
      ]
     },
     "execution_count": 51,
     "metadata": {},
     "output_type": "execute_result"
    }
   ],
   "source": [
    "df.groupby('vax_manu').count()\n"
   ]
  },
  {
   "cell_type": "code",
   "execution_count": null,
   "id": "b8015e41",
   "metadata": {},
   "outputs": [],
   "source": []
  }
 ],
 "metadata": {
  "kernelspec": {
   "display_name": "Python 3",
   "language": "python",
   "name": "python3"
  },
  "language_info": {
   "codemirror_mode": {
    "name": "ipython",
    "version": 3
   },
   "file_extension": ".py",
   "mimetype": "text/x-python",
   "name": "python",
   "nbconvert_exporter": "python",
   "pygments_lexer": "ipython3",
   "version": "3.7.3"
  }
 },
 "nbformat": 4,
 "nbformat_minor": 5
}
